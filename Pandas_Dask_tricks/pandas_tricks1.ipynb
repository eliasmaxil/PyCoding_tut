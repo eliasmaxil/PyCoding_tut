{
 "cells": [
  {
   "attachments": {},
   "cell_type": "markdown",
   "metadata": {},
   "source": [
    "# Some tips & tricks for Pandas DFs\n",
    "\n",
    "* Compare 2 very similar dfs. "
   ]
  },
  {
   "cell_type": "code",
   "execution_count": 21,
   "metadata": {},
   "outputs": [],
   "source": [
    "import pandas as pd\n",
    "import numpy as np"
   ]
  },
  {
   "attachments": {},
   "cell_type": "markdown",
   "metadata": {},
   "source": [
    "## Code to compare values of two pd DFs"
   ]
  },
  {
   "cell_type": "code",
   "execution_count": 22,
   "metadata": {},
   "outputs": [],
   "source": [
    "# Random df & similar df with more data\n",
    "values = np.around(np.random.random([5,3]), 2)\n",
    "df1 = pd.DataFrame(values, columns=['A','B','C'])\n",
    "df2 = df1.copy(deep=True)\n",
    "df2.loc[-1] = [2.1, 3.1, 4.1]  # adding a row\n",
    "df2.index = df2.index + 1  # shifting index\n",
    "df2 = df2.sort_index()  # sorting by index\n",
    "df2.loc[df2.shape[0]] = [2.9, 3.9, 4.9]"
   ]
  },
  {
   "cell_type": "code",
   "execution_count": 23,
   "metadata": {},
   "outputs": [
    {
     "name": "stdout",
     "output_type": "stream",
     "text": [
      "      A     B     C\n",
      "0  0.37  0.81  0.05\n",
      "1  0.37  0.81  0.43\n",
      "2  0.87  0.36  0.56\n",
      "3  0.59  0.73  0.64\n",
      "4  0.90  0.53  0.23\n",
      "      A     B     C\n",
      "0  2.10  3.10  4.10\n",
      "1  0.37  0.81  0.05\n",
      "2  0.37  0.81  0.43\n",
      "3  0.87  0.36  0.56\n",
      "4  0.59  0.73  0.64\n",
      "5  0.90  0.53  0.23\n",
      "6  2.90  3.90  4.90\n"
     ]
    }
   ],
   "source": [
    "print(df1)\n",
    "print(df2) # the larger DF"
   ]
  },
  {
   "cell_type": "code",
   "execution_count": 24,
   "metadata": {},
   "outputs": [
    {
     "name": "stdout",
     "output_type": "stream",
     "text": [
      "      A     B     C  In_df2\n",
      "0  2.10  3.10  4.10    True\n",
      "1  0.37  0.81  0.05   False\n",
      "2  0.37  0.81  0.43   False\n",
      "3  0.87  0.36  0.56   False\n",
      "4  0.59  0.73  0.64   False\n",
      "5  0.90  0.53  0.23   False\n",
      "6  2.90  3.90  4.90    True\n"
     ]
    }
   ],
   "source": [
    "# Detect duplicated rows\n",
    "df_merge = pd.merge(df2, df1, on=['A','B','C'], how='outer', indicator='In_df2')\n",
    "df_merge['In_df2'] =  ~df_merge['In_df2'].eq('both')\n",
    "print(df_merge)"
   ]
  }
 ],
 "metadata": {
  "kernelspec": {
   "display_name": "gnl",
   "language": "python",
   "name": "python3"
  },
  "language_info": {
   "codemirror_mode": {
    "name": "ipython",
    "version": 3
   },
   "file_extension": ".py",
   "mimetype": "text/x-python",
   "name": "python",
   "nbconvert_exporter": "python",
   "pygments_lexer": "ipython3",
   "version": "3.8.16"
  },
  "orig_nbformat": 4,
  "vscode": {
   "interpreter": {
    "hash": "0c76b14ec733f39d28fef7d30f24fdc37eefa4743bc141630753a9c406cb0429"
   }
  }
 },
 "nbformat": 4,
 "nbformat_minor": 2
}
