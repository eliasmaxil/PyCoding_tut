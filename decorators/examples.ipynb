{
 "cells": [
  {
   "cell_type": "markdown",
   "metadata": {},
   "source": [
    "# Some examples for using decorators in practice"
   ]
  },
  {
   "cell_type": "code",
   "execution_count": 1,
   "metadata": {},
   "outputs": [],
   "source": [
    "import functools\n",
    "import pandas as pd\n",
    "import numpy as np\n",
    "import matplotlib.pyplot as plt\n",
    "\n",
    "np.random.seed(11)\n"
   ]
  },
  {
   "cell_type": "markdown",
   "metadata": {},
   "source": [
    "## Using functions with arguments\n",
    "Keywords: Data validation"
   ]
  },
  {
   "cell_type": "code",
   "execution_count": 2,
   "metadata": {},
   "outputs": [],
   "source": [
    "def func1 (df, name='Mark', lastname='Twain'):\n",
    "    print(f\"func1 df.shape: {df.shape}\")\n",
    "    return f\"{name} {lastname}\"\n",
    "\n",
    "def func2 (df, thing='Deodorant', cost='10'):\n",
    "    print(f\"func2 df.shape: {df.shape}\")\n",
    "    return f\"{thing}: ${cost}\"\n",
    "\n",
    "def func3 (df, n=1, n2=3, n3=9):\n",
    "    print(f\"func3 df.shape: {df.shape}\")\n",
    "    return f\"Default sum is 13. Current args: {n+n2+n3}\""
   ]
  },
  {
   "cell_type": "code",
   "execution_count": 3,
   "metadata": {},
   "outputs": [],
   "source": [
    "df = pd.DataFrame(np.ones([1,3]), columns=['a','b','c'])"
   ]
  },
  {
   "cell_type": "code",
   "execution_count": 4,
   "metadata": {},
   "outputs": [],
   "source": [
    "func_list0 = [\n",
    "    (func1, {'name':'John', 'lastname':'Smith'}),\n",
    "    (func2, {'thing':'Deodorant', 'cost':'10'}),\n",
    "    (func3, {'n1':1,'n2':2,'n3':4})\n",
    "    ]\n",
    "\n",
    "func_list1 = [\n",
    "    (func1, {'name':'Joe', 'lastname':'Doe'}),\n",
    "    (func2, {'thing':'Contoso', 'cost':'99'}),\n",
    "    (func3, {'n1':10,'n2':20,'n3':40})\n",
    "    ]"
   ]
  },
  {
   "cell_type": "code",
   "execution_count": 7,
   "metadata": {},
   "outputs": [],
   "source": [
    "class AnyClass(object):\n",
    "    \"\"\"\n",
    "    \"\"\"\n",
    "    def __init__(self, df, func_list,):\n",
    "        self.df=df\n",
    "        self.func_list=func_list\n",
    "\n",
    "    def run_func_list(self):\n",
    "        \"\"\"\n",
    "        \"\"\"\n",
    "        def perform(func, *args, **kwargs):\n",
    "            return func(*args, **kwargs)\n",
    "        toss = np.random.choice(len(self.func_list))\n",
    "        func = self.func_list[toss][0]\n",
    "        arguments = self.func_list[toss][1]\n",
    "        print('Before perform')\n",
    "        r1 = perform(lambda: func(self.df, **arguments))\n",
    "        return r1\n"
   ]
  },
  {
   "cell_type": "code",
   "execution_count": 10,
   "metadata": {},
   "outputs": [
    {
     "name": "stdout",
     "output_type": "stream",
     "text": [
      "Before perform\n",
      "func2 df.shape: (1, 3)\n"
     ]
    },
    {
     "data": {
      "text/plain": [
       "'Deodorant: $10'"
      ]
     },
     "execution_count": 10,
     "metadata": {},
     "output_type": "execute_result"
    }
   ],
   "source": [
    "ob0 = AnyClass(df, func_list0)\n",
    "ob0.run_func_list()"
   ]
  },
  {
   "cell_type": "code",
   "execution_count": 12,
   "metadata": {},
   "outputs": [
    {
     "name": "stdout",
     "output_type": "stream",
     "text": [
      "Before perform\n",
      "func2 df.shape: (1, 3)\n"
     ]
    },
    {
     "data": {
      "text/plain": [
       "'Contoso: $99'"
      ]
     },
     "execution_count": 12,
     "metadata": {},
     "output_type": "execute_result"
    }
   ],
   "source": [
    "ob1 = AnyClass(df, func_list1)\n",
    "ob1.run_func_list()"
   ]
  },
  {
   "cell_type": "code",
   "execution_count": null,
   "metadata": {},
   "outputs": [],
   "source": [
    "# Basic decorator\n",
    "def basic_decorator(func):\n",
    "    @functools.wraps(func)\n",
    "    def wrapper_decorator(*args, **kwargs):\n",
    "        # Do something before\n",
    "        value = func(*args, **kwargs)\n",
    "        # Do something after\n",
    "        return value\n",
    "    return wrapper_decorator\n",
    "\n",
    "# Decorator with arguments\n",
    "def args_decorator(arg1,arg2,arg3='N'):\n",
    "    def decorator_name(func):\n",
    "        @functools.wraps(func)\n",
    "        def wrapper_name(*args, **kwargs):\n",
    "            # Do something before using arg1,...\n",
    "            value = func(*args, **kwargs)\n",
    "            # Do something before using arg1,...\n",
    "            return value\n",
    "        return wrapper_name\n",
    "    return decorator_name"
   ]
  },
  {
   "cell_type": "code",
   "execution_count": null,
   "metadata": {},
   "outputs": [],
   "source": [
    "@basic_decorator\n",
    "def do_basic"
   ]
  }
 ],
 "metadata": {
  "kernelspec": {
   "display_name": "slim",
   "language": "python",
   "name": "python3"
  },
  "language_info": {
   "codemirror_mode": {
    "name": "ipython",
    "version": 3
   },
   "file_extension": ".py",
   "mimetype": "text/x-python",
   "name": "python",
   "nbconvert_exporter": "python",
   "pygments_lexer": "ipython3",
   "version": "3.9.17"
  }
 },
 "nbformat": 4,
 "nbformat_minor": 2
}
